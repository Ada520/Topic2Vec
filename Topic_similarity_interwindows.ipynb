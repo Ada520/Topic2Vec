{
 "cells": [
  {
   "cell_type": "markdown",
   "metadata": {},
   "source": [
    "# Code to plot the cosine similarity between topic vectors belonging to different partitions of the entire dataset\n",
    "* for each partition it plots a heatmap of the cosine similarity between topic vectors belonging to different windows"
   ]
  },
  {
   "cell_type": "code",
   "execution_count": null,
   "metadata": {
    "collapsed": false
   },
   "outputs": [],
   "source": [
    "import os\n",
    "from time import time\n",
    "\n",
    "import numpy as np\n",
    "import pandas as pd\n",
    "import matplotlib.pyplot as plt\n",
    "%pylab inline"
   ]
  },
  {
   "cell_type": "code",
   "execution_count": null,
   "metadata": {
    "collapsed": true
   },
   "outputs": [],
   "source": [
    "from gensim import corpora, models, similarities\n",
    "from scipy.spatial.distance import cosine"
   ]
  },
  {
   "cell_type": "markdown",
   "metadata": {},
   "source": [
    "## INPUT PARAMETERS"
   ]
  },
  {
   "cell_type": "code",
   "execution_count": null,
   "metadata": {
    "collapsed": false
   },
   "outputs": [],
   "source": [
    "# parameters to select the topic2vec model to load\n",
    "n_docs = 11314\n",
    "n_window_t2v = 2\n",
    "random_seeds_partition = [55]\n",
    "n_topics = 8"
   ]
  },
  {
   "cell_type": "code",
   "execution_count": null,
   "metadata": {
    "collapsed": false
   },
   "outputs": [],
   "source": [
    "cwd =  os.getcwd() # Prints the working directory\n",
    "results_dir_path = cwd + '/results/DBOW/20NG_lemmatiz_DBOW_win5_n_topics' + str (n_topics) +'_n_doc' + str(n_docs) + '_n_win' + str(n_window_t2v)\n"
   ]
  },
  {
   "cell_type": "code",
   "execution_count": null,
   "metadata": {
    "collapsed": false
   },
   "outputs": [],
   "source": [
    "topic_list = []\n",
    "for i in xrange(n_topics):\n",
    "    topic_list.append('topic_' + str(i))"
   ]
  },
  {
   "cell_type": "code",
   "execution_count": null,
   "metadata": {
    "collapsed": false
   },
   "outputs": [],
   "source": [
    "for i_random_seed in random_seeds_partition:\n",
    "\n",
    "    topic_to_topic = np.zeros((n_topics,n_topics))\n",
    "    \n",
    "    fig, axes = plt.subplots(nrows=1, ncols=n_window_t2v-1)\n",
    "    axes.set_position([0.1, 0.15, 0.7, 0.7])\n",
    "    fig.set_size_inches(8, 8)\n",
    "    fig.suptitle('Topic similarity interwindows\\n partition seed ' + str(i_random_seed), size = 20, y = 0.93)\n",
    "\n",
    "    for i_window in xrange(n_window_t2v-1):\n",
    "\n",
    "        fname_win1 = results_dir_path + '/t2v_20NG_partSEED' + str(i_random_seed) + '_win' + str(i_window) + '.model'\n",
    "        model_win1 = models.Doc2Vec.load(fname_win1)\n",
    "        \n",
    "        fname_win2 = results_dir_path + '/t2v_20NG_partSEED' + str(i_random_seed) + '_win' + str(i_window+1) + '.model'\n",
    "        model_win2 = models.Doc2Vec.load(fname_win2)\n",
    "        \n",
    "        for idx,i_topic in enumerate(topic_list):\n",
    "            vec_a = model_win1.docvecs[i_topic]\n",
    "            for jdx,j_topic in enumerate(topic_list):\n",
    "                vec_b = model_win2.docvecs[j_topic]\n",
    "                \n",
    "                topic_to_topic[idx,jdx] = 1 - cosine(vec_a, vec_b)\n",
    "            \n",
    "        # Plot it out\n",
    "#        ax = axes[i_window]\n",
    "        ax = axes\n",
    "        heatmap = ax.pcolor(topic_to_topic, cmap=plt.cm.Blues, alpha=0.8, vmin=-0.2, vmax=0.2)\n",
    "        ax.set_xlabel('Window '+ str(i_window+1), size = 20)\n",
    "        ax.set_ylabel('Window '+ str(i_window), size = 20)\n",
    "    \n",
    "        # turn off the frame\n",
    "        ax.set_frame_on(False)\n",
    "\n",
    "        # note I could have used nba_sort.columns but made \"labels\" instead\n",
    "        ax.set_xticklabels([], minor=False, rotation='vertical')\n",
    "        ax.set_yticklabels([], minor=False)\n",
    "\n",
    "        for t in ax.xaxis.get_major_ticks():\n",
    "            t.tick1On = False\n",
    "            t.tick2On = False\n",
    "        for t in ax.yaxis.get_major_ticks():\n",
    "            t.tick1On = False\n",
    "            t.tick2On = False\n",
    "    \n",
    "\n",
    "    # Add colorbar, make sure to specify tick locations to match desired ticklabels\n",
    "    # Make an axis for the colorbar on the right side\n",
    "    cax = fig.add_axes([0.85, 0.15, 0.02, 0.7])\n",
    "    cbar = fig.colorbar(heatmap, cax=cax, ticks=[-0.3, -0.15, 0, 0.15, 0.3])\n",
    "    cbar.ax.set_yticklabels(['-0.3', '-0.15', '0', '0.15', '0.3'], size = 20)  # vertically oriented colorbar\n",
    "     \n",
    "        \n",
    "    fig.savefig(results_dir_path +'/topic_similarity_interwindows_partSEED' + str(i_random_seed) + '.png', bbox = 'True', dpi = 200)"
   ]
  },
  {
   "cell_type": "code",
   "execution_count": null,
   "metadata": {
    "collapsed": true
   },
   "outputs": [],
   "source": []
  }
 ],
 "metadata": {
  "kernelspec": {
   "display_name": "Python 2",
   "language": "python",
   "name": "python2"
  },
  "language_info": {
   "codemirror_mode": {
    "name": "ipython",
    "version": 2
   },
   "file_extension": ".py",
   "mimetype": "text/x-python",
   "name": "python",
   "nbconvert_exporter": "python",
   "pygments_lexer": "ipython2",
   "version": "2.7.11"
  }
 },
 "nbformat": 4,
 "nbformat_minor": 0
}
