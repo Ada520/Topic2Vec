{
 "cells": [
  {
   "cell_type": "markdown",
   "metadata": {},
   "source": [
    "# Code to plot the cosine similarity between topic vectors \n",
    "* for each partition it plots a heatmap of the cosine similarity between topic vectors computed in each window"
   ]
  },
  {
   "cell_type": "code",
   "execution_count": null,
   "metadata": {
    "collapsed": false
   },
   "outputs": [],
   "source": [
    "import os\n",
    "from time import time\n",
    "\n",
    "import numpy as np\n",
    "import pandas as pd\n",
    "import matplotlib.pyplot as plt\n",
    "import matplotlib as mpl\n",
    "%pylab inline"
   ]
  },
  {
   "cell_type": "code",
   "execution_count": null,
   "metadata": {
    "collapsed": true
   },
   "outputs": [],
   "source": [
    "from gensim import corpora, models, similarities"
   ]
  },
  {
   "cell_type": "markdown",
   "metadata": {},
   "source": [
    "## INPUT PARAMETERS"
   ]
  },
  {
   "cell_type": "code",
   "execution_count": null,
   "metadata": {
    "collapsed": true
   },
   "outputs": [],
   "source": [
    "# parameters to select the topic2vec model to load\n",
    "n_docs = 11314\n",
    "n_window_t2v = 2\n",
    "random_seed_partition = 55\n",
    "n_topics_LDA = 8"
   ]
  },
  {
   "cell_type": "code",
   "execution_count": null,
   "metadata": {
    "collapsed": false
   },
   "outputs": [],
   "source": [
    "cwd =  os.getcwd() # Prints the working directory\n",
    "results_dir_path = cwd + '/results/DBOW/20NG_lemmatiz_DBOW_win5_n_topics' + str (n_topics_LDA) +'_n_doc' + str(n_docs) + '_n_win' + str(n_window_t2v)\n"
   ]
  },
  {
   "cell_type": "code",
   "execution_count": null,
   "metadata": {
    "collapsed": false
   },
   "outputs": [],
   "source": [
    "topic_list = []\n",
    "for i in xrange(n_topics_LDA):\n",
    "    topic_list.append('topic_' + str(i))"
   ]
  },
  {
   "cell_type": "code",
   "execution_count": null,
   "metadata": {
    "collapsed": false
   },
   "outputs": [],
   "source": [
    "#%matplotlib qt\n",
    "topic_to_topic = np.zeros((n_topics_LDA,n_topics_LDA))\n",
    "\n",
    "fig, axes = plt.subplots(nrows=1, ncols=n_window_t2v)\n",
    "\n",
    "fig.set_size_inches(20, 10)\n",
    " \n",
    "fig.suptitle('Topic similarity in each window', size = 25)\n",
    "\n",
    "for i_window in xrange(n_window_t2v):\n",
    "\n",
    "    fname = results_dir_path + '/t2v_20NG_partSEED' + str(random_seed_partition) + '_win' + str(i_window) + '.model'\n",
    "    model = models.Doc2Vec.load(fname)\n",
    "\n",
    "    for idx,i_topic in enumerate(topic_list):\n",
    "        for jdx,j_topic in enumerate(topic_list):\n",
    "            topic_to_topic[idx,jdx] = model.docvecs.similarity(i_topic, j_topic)\n",
    "            \n",
    "    # Plot it out\n",
    "    ax = axes[i_window]\n",
    "    heatmap = ax.pcolor(topic_to_topic, cmap=plt.cm.Blues, alpha=0.8, vmin=-0.6, vmax=1)\n",
    "    ax.set_title('Window '+str(i_window), size = 25)\n",
    "    print(ax.get_position()) \n",
    "    \n",
    "    # turn off the frame\n",
    "    ax.set_frame_on(False)\n",
    "\n",
    "    # note I could have used nba_sort.columns but made \"labels\" instead\n",
    "    ax.set_xticklabels([], minor=False, rotation='vertical')\n",
    "    ax.set_yticklabels([], minor=False)\n",
    "\n",
    "    for t in ax.xaxis.get_major_ticks():\n",
    "        t.tick1On = False\n",
    "        t.tick2On = False\n",
    "    for t in ax.yaxis.get_major_ticks():\n",
    "        t.tick1On = False\n",
    "        t.tick2On = False\n",
    "    \n",
    "\n",
    "# Add colorbar, make sure to specify tick locations to match desired ticklabels\n",
    "# Make an axis for the colorbar on the right side\n",
    "cax = fig.add_axes([0.92, 0.15, 0.02, 0.7])\n",
    "cbar = fig.colorbar(heatmap, cax=cax, ticks=[-0.5, 0, 0.5, 1])\n",
    "cbar.ax.set_yticklabels(['-0.5', '0', '0.5', '1'], size = 25)  # vertically oriented colorbar\n",
    "     \n",
    "        \n",
    "fig.savefig(results_dir_path +'/topic_similarity_intrawindow_partSEED' + str(random_seed_partition) + '.png', bbox = 'True')"
   ]
  },
  {
   "cell_type": "code",
   "execution_count": null,
   "metadata": {
    "collapsed": true
   },
   "outputs": [],
   "source": []
  }
 ],
 "metadata": {
  "kernelspec": {
   "display_name": "Python 2",
   "language": "python",
   "name": "python2"
  },
  "language_info": {
   "codemirror_mode": {
    "name": "ipython",
    "version": 2
   },
   "file_extension": ".py",
   "mimetype": "text/x-python",
   "name": "python",
   "nbconvert_exporter": "python",
   "pygments_lexer": "ipython2",
   "version": "2.7.11"
  }
 },
 "nbformat": 4,
 "nbformat_minor": 0
}
