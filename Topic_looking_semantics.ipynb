{
 "cells": [
  {
   "cell_type": "markdown",
   "metadata": {},
   "source": [
    "# Code to check the semantics associated with the topic vectors in each partition of the entire dataset:\n",
    "1. document classification: each doc is assigned to the topic whose vector is the closest (cosine distance) among all topic vectors\n",
    "2. for each topic it plots the histogram over the real categories of the number of documents assigned to the topic \n",
    "3. for each partition used it plots the histogram of the number of docs per category   \n",
    "\n",
    "\n",
    "It saves:\n",
    "* for each topic and each window: an histograms of the number of docs per category\n",
    "* for each window: an histograms of the number of docs per category"
   ]
  },
  {
   "cell_type": "code",
   "execution_count": null,
   "metadata": {
    "collapsed": false
   },
   "outputs": [],
   "source": [
    "import os\n",
    "from time import time\n",
    "\n",
    "import numpy as np\n",
    "import pandas as pd\n",
    "import matplotlib.pyplot as plt\n",
    "import matplotlib as mpl\n",
    "%pylab inline"
   ]
  },
  {
   "cell_type": "code",
   "execution_count": null,
   "metadata": {
    "collapsed": true
   },
   "outputs": [],
   "source": [
    "from gensim import corpora, models, similarities\n",
    "import re"
   ]
  },
  {
   "cell_type": "code",
   "execution_count": null,
   "metadata": {
    "collapsed": true
   },
   "outputs": [],
   "source": [
    "# list of categories available in the dataset\n",
    "categories = ['alt.atheism',\n",
    " 'comp.graphics',\n",
    " 'comp.os.ms-windows.misc',\n",
    " 'comp.sys.ibm.pc.hardware',\n",
    " 'comp.sys.mac.hardware',\n",
    " 'comp.windows.x',\n",
    " 'misc.forsale',\n",
    " 'rec.autos',\n",
    " 'rec.motorcycles',\n",
    " 'rec.sport.baseball',\n",
    " 'rec.sport.hockey',\n",
    " 'sci.crypt',\n",
    " 'sci.electronics',\n",
    " 'sci.med',\n",
    " 'sci.space',\n",
    " 'soc.religion.christian',\n",
    " 'talk.politics.guns',\n",
    " 'talk.politics.mideast',\n",
    " 'talk.politics.misc',\n",
    " 'talk.religion.misc']"
   ]
  },
  {
   "cell_type": "code",
   "execution_count": null,
   "metadata": {
    "collapsed": false
   },
   "outputs": [],
   "source": [
    "cat_sorted = sorted(categories)\n",
    "n_cats = len(categories)"
   ]
  },
  {
   "cell_type": "markdown",
   "metadata": {},
   "source": [
    "## INPUT PARAMETERS"
   ]
  },
  {
   "cell_type": "code",
   "execution_count": null,
   "metadata": {
    "collapsed": true
   },
   "outputs": [],
   "source": [
    "# parameters to select the topic2vec model to load\n",
    "n_docs = 11314\n",
    "n_window_t2v = 2\n",
    "random_seed_partition = 55\n",
    "n_topics = 8"
   ]
  },
  {
   "cell_type": "code",
   "execution_count": null,
   "metadata": {
    "collapsed": false
   },
   "outputs": [],
   "source": [
    "cwd =  os.getcwd() # Prints the working directory\n",
    "results_dir_path = cwd + '/results/DBOW/20NG_lemmatiz_DBOW_win5_n_topics' + str (n_topics) +'_n_doc' + str(n_docs) + '_n_win' + str(n_window_t2v)"
   ]
  },
  {
   "cell_type": "code",
   "execution_count": null,
   "metadata": {
    "collapsed": false
   },
   "outputs": [],
   "source": [
    "topic_list = []\n",
    "for i in xrange(n_topics):\n",
    "    topic_list.append('topic_' + str(i))"
   ]
  },
  {
   "cell_type": "code",
   "execution_count": null,
   "metadata": {
    "collapsed": false
   },
   "outputs": [],
   "source": [
    "#%matplotlib qt\n",
    "reg_topic = 'topic_\\d+'\n",
    "\n",
    "# Histo of the number of docs per category\n",
    "fig2, axes2 = plt.subplots(nrows=1, ncols=n_window_t2v)\n",
    "fig2.set_size_inches(10, 6) \n",
    "fig2.suptitle('#Docs per Category', size = 25)\n",
    "\n",
    "for i_window in xrange(n_window_t2v):\n",
    "\n",
    "    fname = results_dir_path + '/t2v_20NG_partSEED' + str(random_seed_partition) + '_win' + str(i_window) + '.model'\n",
    "    model = models.Doc2Vec.load(fname)\n",
    "\n",
    "    df = pd.DataFrame(np.zeros((n_topics,n_cats), dtype=np.int), index = topic_list, columns = cat_sorted)\n",
    "    df_count = pd.DataFrame(np.zeros((n_cats,1), dtype=np.int), index = cat_sorted)\n",
    "    \n",
    "    for idx_doc,i_doc in enumerate(model.docvecs.doctags):\n",
    "        reg_doc = '([a-zA-Z._-]+)'\n",
    "        if not re.match(reg_topic, i_doc):\n",
    "            doc_topic_simil = []\n",
    "            for idx_topic,i_topic in enumerate(topic_list):\n",
    "                doc_topic_simil.append(model.docvecs.similarity(i_doc, i_topic))\n",
    "            \n",
    "            cat = re.search(reg_doc, i_doc)  \n",
    "\n",
    "            current_topic = topic_list[doc_topic_simil.index(max(doc_topic_simil))]\n",
    "            current_doc = cat.group(1)[:-1]\n",
    "            \n",
    "            df.loc[current_topic,current_doc] = df.loc[current_topic,current_doc] + 1\n",
    "            \n",
    "        df_count.ix[current_doc] = df_count.ix[current_doc] + 1\n",
    "\n",
    "    for idx_topic,i_topic in enumerate(topic_list):       \n",
    "        # Plot of the number of docs per category in each topic\n",
    "        fig1 = plt.figure()\n",
    "        ax = plt.gca()\n",
    "        # Format\n",
    "        fig1.set_size_inches(10, 10)\n",
    " \n",
    "        fig1.suptitle(i_topic + ': topic semantics', size = 25)\n",
    "        df.loc[i_topic].plot(kind='bar') \n",
    "    \n",
    "        # turn off the frame\n",
    "        ax.set_frame_on(True)\n",
    "\n",
    "\n",
    "        # note I could have used nba_sort.columns but made \"labels\" instead\n",
    "        ax.set_xticklabels(cat_sorted, minor=False, rotation='vertical')\n",
    "\n",
    "        for t in ax.xaxis.get_major_ticks():\n",
    "            t.tick1On = False\n",
    "            t.tick2On = False\n",
    "        for t in ax.yaxis.get_major_ticks():\n",
    "            t.tick1On = False\n",
    "            t.tick2On = False\n",
    "\n",
    "        fig1.savefig(results_dir_path +'/' + i_topic + '_semantics_partSEED' + str(random_seed_partition) + '_win'+ str(i_window) +'.png')\n",
    "  \n",
    "\n",
    "    # Plot of the number of docs per category in partition\n",
    "    ax2 = axes2[i_window]\n",
    "    df_count.plot(kind='bar', ax = ax2, legend = False) \n",
    "\n",
    "    ax2.set_title('Window: '+str(i_window))\n",
    "    # turn off the frame\n",
    "    ax2.set_frame_on(True)\n",
    "\n",
    "    for t in ax2.xaxis.get_major_ticks():\n",
    "        t.tick1On = False\n",
    "        t.tick2On = False\n",
    "    for t in ax2.yaxis.get_major_ticks():\n",
    "        t.tick1On = False\n",
    "        t.tick2On = False\n",
    "\n",
    "fig2.savefig(results_dir_path +'/n_docs_per_category.png', dpi = 200)"
   ]
  },
  {
   "cell_type": "code",
   "execution_count": null,
   "metadata": {
    "collapsed": true
   },
   "outputs": [],
   "source": []
  }
 ],
 "metadata": {
  "kernelspec": {
   "display_name": "Python 2",
   "language": "python",
   "name": "python2"
  },
  "language_info": {
   "codemirror_mode": {
    "name": "ipython",
    "version": 2
   },
   "file_extension": ".py",
   "mimetype": "text/x-python",
   "name": "python",
   "nbconvert_exporter": "python",
   "pygments_lexer": "ipython2",
   "version": "2.7.11"
  }
 },
 "nbformat": 4,
 "nbformat_minor": 0
}
